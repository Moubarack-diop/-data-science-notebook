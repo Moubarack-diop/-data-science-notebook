{
 "cells": [
  {
   "cell_type": "markdown",
   "id": "51aabf76-7b78-422f-9fae-40a6808f9468",
   "metadata": {},
   "source": [
    "# Data Science Tools and Ecosystem"
   ]
  },
  {
   "cell_type": "markdown",
   "id": "2cf26471-0bee-4075-a86f-23d0ea996689",
   "metadata": {},
   "source": [
    "In this notebook, Data Science Tools and Ecosystem are summarized"
   ]
  },
  {
   "cell_type": "markdown",
   "id": "0e022e25-f928-4042-b3f1-e5a8ab9065b4",
   "metadata": {},
   "source": [
    "Some of the popular languages that Data Scientists use are:\r\n",
    "\r\n",
    "1. **Python** - Widely used for its simplicity, extensive libraries (e.g., NumPy, Pandas, Scikit-learn), and robust frameworks for machine learning and data analysis.\r\n",
    "2. **R** - Specialized for statistical computing and data visualization, with tools like ggplot2 and dplyr.\r\n",
    "3. **SQL** - Essential for working with structured data and querying relational databases.\r\n",
    "4. **Julia** - Known for high-performance numerical and scientific computing.\r\n",
    "5. **Java** - Often used in large-scale data processing frameworks like Apache Hadoop and Apache Spark.\r\n"
   ]
  },
  {
   "cell_type": "markdown",
   "id": "d8532acf-a2a0-4984-9768-fd8c645bfc6b",
   "metadata": {},
   "source": [
    "Some of the commonly used libraries used by Data Scientists include:\r\n",
    "\r\n",
    "1. **NumPy** - A fundamental library for numerical computing in Python, providing support for arrays and matrices.\r\n",
    "2. **Pandas** - A powerful tool for data manipulation and analysis, offering data structures like DataFrames.\r\n",
    "3. **Scikit-learn** - A machine learning library that provides tools for classification, regression, clustering, and dimensionality reduction.\r\n",
    "4. **Matplotlib** - A versatile library for creating static, animated, and interactive visualizations.\r\n",
    "5. **TensorFlow** - An open-source framework for building and training machine learning models, particularly deep learning.\r\n",
    "6. **PyTorch** - Another popular deep learning library, favored for its flexibility and ease of use.\r\n"
   ]
  },
  {
   "cell_type": "markdown",
   "id": "5eb99176-25d8-4db0-a2fd-635aa974a315",
   "metadata": {},
   "source": [
    "| Data Science Tools          |\r\n",
    "|-----------------------------|\r\n",
    "| Jupyter Notebook            |\r\n",
    "| RStudio                     |\r\n",
    "| Visual Studio Code (VS Code)|\r\n"
   ]
  },
  {
   "cell_type": "markdown",
   "id": "414ed15a-a0cb-4ddc-bcfc-43efa97311c7",
   "metadata": {},
   "source": [
    "### Below are a few examples of evaluating arithmetic expressions in Python.\r\n"
   ]
  },
  {
   "cell_type": "code",
   "execution_count": 14,
   "id": "80947e8e-3256-4c11-b892-3ccfa2425889",
   "metadata": {},
   "outputs": [
    {
     "data": {
      "text/plain": [
       "17"
      ]
     },
     "execution_count": 14,
     "metadata": {},
     "output_type": "execute_result"
    }
   ],
   "source": [
    "# This is a simple arithmetic expression to multiply then add integers.\n",
    "result = (3 * 4) + 5\n",
    "result "
   ]
  },
  {
   "cell_type": "code",
   "execution_count": 16,
   "id": "a8dfeae3-ea6c-4537-a6a7-2ce7e67a154d",
   "metadata": {},
   "outputs": [
    {
     "data": {
      "text/plain": [
       "3.3333333333333335"
      ]
     },
     "execution_count": 16,
     "metadata": {},
     "output_type": "execute_result"
    }
   ],
   "source": [
    "# This will convert 200 minutes to hours by dividing by 60.\n",
    "minutes = 200\n",
    "hours = minutes / 60\n",
    "hours "
   ]
  },
  {
   "cell_type": "markdown",
   "id": "f9e553a4-f1e5-48bf-8e88-15c3e5129f5d",
   "metadata": {},
   "source": [
    "**Objectives:**\n",
    "\n",
    "- List popular languages for Data Science.\n",
    "- Identify commonly used libraries in Data Science.\n",
    "- Explore tools and development environments used in Data Science.\n",
    "- Demonstrate basic arithmetic expressions in Python.\n",
    "- Convert units (e.g., minutes to hours) using Python expressions.\n"
   ]
  },
  {
   "cell_type": "markdown",
   "id": "a6d78e99-3006-4c75-84c5-6d3250e636c7",
   "metadata": {},
   "source": [
    "## Author\r\n",
    "\r\n",
    "Mouhamed Diop\r\n"
   ]
  },
  {
   "cell_type": "code",
   "execution_count": null,
   "id": "049f1536-7ac5-478d-b369-c0dccd339e06",
   "metadata": {},
   "outputs": [],
   "source": []
  },
  {
   "cell_type": "markdown",
   "id": "3ec25127-c602-4282-b45c-b8bbc29f8775",
   "metadata": {},
   "source": [
    "To share your notebook through GitHub, follow these steps:\r\n",
    "\r\n",
    "1. **Create a GitHub account** (if you don't already have one) at [https://github.com](https://github.com).\r\n",
    "\r\n",
    "2. **Create a new repository**:\r\n",
    "   - Go to your GitHub account, and click the `+` icon in the top-right corner.\r\n",
    "   - Select **New repository**.\r\n",
    "   - Give your repository a name (e.g., `data-science-notebook`), set it to **Public**, and click **Create repository**.\r\n",
    "\r\n",
    "3. **Upload your notebook**:\r\n",
    "   - On your local machine, save your notebook (e.g., `data_science_notebook.ipynb`).\r\n",
    "   - On the GitHub repository page, click **Add file** > **Upload files**.\r\n",
    "   - Drag and drop your notebook file or use the file chooser to select it.\r\n",
    "   - Commit the changes (add a commit message like \"Initial upload of data science notebook\").\r\n",
    "\r\n",
    "4. **Get the repository link**:\r\n",
    "   - After uploading, you'll be on the main page of your GitHub repository.\r\n",
    "   - Copy the URL from your browser’s address bar. It will look like `https://github.com/yourusername/data-science-notebook`.\r\n",
    "\r\n",
    "5. **Share the link**:\r\n",
    "   - Use the URL of the repository to share your notebook.\r\n",
    "\r\n",
    "Feel free to share the link here if you want me to verify it!"
   ]
  },
  {
   "cell_type": "code",
   "execution_count": null,
   "id": "3733f34f-f94d-4268-bf84-a151888e5f9d",
   "metadata": {},
   "outputs": [],
   "source": []
  }
 ],
 "metadata": {
  "kernelspec": {
   "display_name": "Python 3 (ipykernel)",
   "language": "python",
   "name": "python3"
  },
  "language_info": {
   "codemirror_mode": {
    "name": "ipython",
    "version": 3
   },
   "file_extension": ".py",
   "mimetype": "text/x-python",
   "name": "python",
   "nbconvert_exporter": "python",
   "pygments_lexer": "ipython3",
   "version": "3.12.4"
  }
 },
 "nbformat": 4,
 "nbformat_minor": 5
}
